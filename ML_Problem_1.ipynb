{
  "nbformat": 4,
  "nbformat_minor": 0,
  "metadata": {
    "colab": {
      "name": "ML_Problem_1.ipynb",
      "version": "0.3.2",
      "provenance": [],
      "collapsed_sections": []
    },
    "kernelspec": {
      "name": "python3",
      "display_name": "Python 3"
    }
  },
  "cells": [
    {
      "metadata": {
        "id": "nmhTVRGsVBh_",
        "colab_type": "text"
      },
      "cell_type": "markdown",
      "source": [
        "**Loading the MNIST data set through Keras**"
      ]
    },
    {
      "metadata": {
        "id": "3UFi5pw44gHF",
        "colab_type": "code",
        "outputId": "6ca4cd5a-d017-492b-b21c-cd3cb9298a40",
        "colab": {
          "base_uri": "https://localhost:8080/",
          "height": 35
        }
      },
      "cell_type": "code",
      "source": [
        "import keras\n",
        "from keras.datasets import mnist\n",
        "import numpy as np\n",
        "import matplotlib as plt\n",
        "\n",
        "(train_images_original, train_labels_original), (test_images_original, test_labels_original) = mnist.load_data()"
      ],
      "execution_count": 2,
      "outputs": [
        {
          "output_type": "stream",
          "text": [
            "Using TensorFlow backend.\n"
          ],
          "name": "stderr"
        }
      ]
    },
    {
      "metadata": {
        "id": "Kt9zW_28WeIw",
        "colab_type": "text"
      },
      "cell_type": "markdown",
      "source": [
        "printing original values"
      ]
    },
    {
      "metadata": {
        "id": "jXW4rjttWjmh",
        "colab_type": "code",
        "outputId": "1ddc6730-1662-46e2-f1b8-d1bda8e72d6c",
        "colab": {
          "base_uri": "https://localhost:8080/",
          "height": 87
        }
      },
      "cell_type": "code",
      "source": [
        "train_images_original.shape, train_labels_original, test_images_original.shape, test_labels_original.shape"
      ],
      "execution_count": 3,
      "outputs": [
        {
          "output_type": "execute_result",
          "data": {
            "text/plain": [
              "((60000, 28, 28),\n",
              " array([5, 0, 4, ..., 5, 6, 8], dtype=uint8),\n",
              " (10000, 28, 28),\n",
              " (10000,))"
            ]
          },
          "metadata": {
            "tags": []
          },
          "execution_count": 3
        }
      ]
    },
    {
      "metadata": {
        "id": "gxGF4kP5WTSq",
        "colab_type": "text"
      },
      "cell_type": "markdown",
      "source": [
        "**Preparing the image data**"
      ]
    },
    {
      "metadata": {
        "id": "Vy8UC4a4WS22",
        "colab_type": "code",
        "colab": {}
      },
      "cell_type": "code",
      "source": [
        "train_images = train_images_original.reshape((60000, 28 * 28))\n",
        "train_images = train_images.astype('float32') / 255\n",
        "\n",
        "test_images = test_images_original.reshape((10000, 28 * 28))\n",
        "test_images = test_images.astype('float32') / 255"
      ],
      "execution_count": 0,
      "outputs": []
    },
    {
      "metadata": {
        "id": "K5imu-EeMP7s",
        "colab_type": "code",
        "outputId": "32294539-6b91-4666-9447-126b51d42402",
        "colab": {
          "base_uri": "https://localhost:8080/",
          "height": 35
        }
      },
      "cell_type": "code",
      "source": [
        "train_images.shape"
      ],
      "execution_count": 8,
      "outputs": [
        {
          "output_type": "execute_result",
          "data": {
            "text/plain": [
              "(60000, 784)"
            ]
          },
          "metadata": {
            "tags": []
          },
          "execution_count": 8
        }
      ]
    },
    {
      "metadata": {
        "id": "xjVXxQ7l43rO",
        "colab_type": "text"
      },
      "cell_type": "markdown",
      "source": [
        "**Preparing the train labels ( converting intergers to binary)**"
      ]
    },
    {
      "metadata": {
        "id": "ftLmk4m649nN",
        "colab_type": "code",
        "colab": {}
      },
      "cell_type": "code",
      "source": [
        "from keras.utils import to_categorical\n",
        "\n",
        "train_labels = to_categorical(train_labels_original,10)\n",
        "test_labels = to_categorical(test_labels_original,10)\n",
        "y_verify = test_labels_original\n"
      ],
      "execution_count": 0,
      "outputs": []
    },
    {
      "metadata": {
        "id": "Qc2MNy5SWrW-",
        "colab_type": "text"
      },
      "cell_type": "markdown",
      "source": [
        "Displaying new values"
      ]
    },
    {
      "metadata": {
        "id": "UM7GoBRgWtR9",
        "colab_type": "code",
        "outputId": "c14f746e-70fe-4574-e8e1-f88a6331c50b",
        "colab": {
          "base_uri": "https://localhost:8080/",
          "height": 35
        }
      },
      "cell_type": "code",
      "source": [
        "train_images.shape, train_labels.shape, test_images.shape, test_labels.shape"
      ],
      "execution_count": 0,
      "outputs": [
        {
          "output_type": "execute_result",
          "data": {
            "text/plain": [
              "((60000, 784), (60000, 10), (10000, 784), (10000, 10))"
            ]
          },
          "metadata": {
            "tags": []
          },
          "execution_count": 6
        }
      ]
    },
    {
      "metadata": {
        "id": "1UdB638kqqgw",
        "colab_type": "text"
      },
      "cell_type": "markdown",
      "source": [
        "**Initialize the parameters weight,bias,batch size and learning rate for training the data set**"
      ]
    },
    {
      "metadata": {
        "id": "ztCK9vw3OisT",
        "colab_type": "code",
        "colab": {}
      },
      "cell_type": "code",
      "source": [
        "weight = np.random.randn(10,784)*0.01\n",
        "bias = np.random.randn(10,1)*0.01\n",
        "\n",
        "lr = 0.005\n",
        "batch_size = 8\n",
        "epochs = 100"
      ],
      "execution_count": 0,
      "outputs": []
    },
    {
      "metadata": {
        "id": "Voy20j8Th4iU",
        "colab_type": "text"
      },
      "cell_type": "markdown",
      "source": [
        "**Method Definitions for logistic regression, sigmoid and mini-batch stochastic gradient**"
      ]
    },
    {
      "metadata": {
        "id": "nIo1B1ZZh6Yc",
        "colab_type": "code",
        "colab": {}
      },
      "cell_type": "code",
      "source": [
        "def logistic_regression(weight,x,bias):\n",
        "  y = np.dot(weight,np.transpose(x)) + (bias)\n",
        "  z = sigmoid(y)\n",
        "  return z\n",
        "\n",
        "\n",
        "#input to the function (our algorithm’s prediction using Logistic regression  e.g. wx + b)\n",
        "def sigmoid(x): \n",
        "  z = 1/(1+np.exp(-x))\n",
        "  return z\n",
        "\n",
        "\n",
        "def minibatchsgd(weight,train_images,bias,train_labels,z,lr,batch_size):\n",
        "  loss = np.sum(-(np.transpose(train_labels) - z), axis = 1, keepdims =True)/batch_size\n",
        "  sigmoid_derivative = sigmoid(z)*(1-sigmoid(z))\n",
        "  d_z = np.multiply(loss,sigmoid_derivative)\n",
        "  gradient_weight = np.dot(d_z,train_images)\n",
        "  gradient_bias = np.sum(d_z,axis=1,keepdims=True)\n",
        "  weight = weight - lr*gradient_weight\n",
        "  bias = bias - lr*gradient_bias\n",
        "  return weight,bias"
      ],
      "execution_count": 0,
      "outputs": []
    },
    {
      "metadata": {
        "id": "GQP4qvbo8ANL",
        "colab_type": "text"
      },
      "cell_type": "markdown",
      "source": [
        "**Training the network to find the classifier with maximum accuracy**"
      ]
    },
    {
      "metadata": {
        "id": "IaSda0dWnK-W",
        "colab_type": "code",
        "outputId": "90777a0a-e249-4ba1-fa91-e746a60bb863",
        "colab": {
          "base_uri": "https://localhost:8080/",
          "height": 52
        }
      },
      "cell_type": "code",
      "source": [
        "for j in range(epochs):\n",
        "  for i in range(0, train_images.shape[0], batch_size):\n",
        "    z = logistic_regression(weight,train_images[i:i+batch_size],bias)\n",
        "    weight,bias = minibatchsgd(weight,train_images[i:i+batch_size],bias,train_labels[i:i+batch_size],z,lr,batch_size)\n",
        "y_test_set = logistic_regression(weight,test_images,bias)\n",
        "y_test_set = np.transpose(y_test_set)\n",
        "listofmax = list()\n",
        "for i in range(10000):\n",
        "  listofmax.append(np.argmax(y_test_set[i]))\n",
        "cnt = 0\n",
        "for i in range(10000):\n",
        "  if listofmax[i] == y_verify[i]:\n",
        "    cnt += 1\n",
        "acc = cnt/100\n",
        "print('Accuracy:', acc)\n",
        "print('classifier with the strongest output is:', np.argmax(listofmax))"
      ],
      "execution_count": 0,
      "outputs": [
        {
          "output_type": "stream",
          "text": [
            "Accuracy: 90.2\n",
            "classifier with the strongest output is: 7\n"
          ],
          "name": "stdout"
        }
      ]
    }
  ]
}
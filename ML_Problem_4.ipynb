{
  "nbformat": 4,
  "nbformat_minor": 0,
  "metadata": {
    "colab": {
      "name": "ML_Problem-4.ipynb",
      "version": "0.3.2",
      "provenance": [],
      "collapsed_sections": []
    },
    "kernelspec": {
      "name": "python3",
      "display_name": "Python 3"
    }
  },
  "cells": [
    {
      "metadata": {
        "id": "d3Jcdw_QwwDk",
        "colab_type": "text"
      },
      "cell_type": "markdown",
      "source": [
        "**Loading the MNIST Data through Keras**"
      ]
    },
    {
      "metadata": {
        "id": "PPetTI4fwG2m",
        "colab_type": "code",
        "colab": {
          "base_uri": "https://localhost:8080/",
          "height": 35
        },
        "outputId": "be04dcca-8b23-4b35-cf0b-3f5f2fd3d722"
      },
      "cell_type": "code",
      "source": [
        "import keras\n",
        "from keras.datasets import mnist\n",
        "\n",
        "(train_images_original, train_labels_original), (test_images_original, test_labels_original) = mnist.load_data()\n"
      ],
      "execution_count": 1,
      "outputs": [
        {
          "output_type": "stream",
          "text": [
            "Using TensorFlow backend.\n"
          ],
          "name": "stderr"
        }
      ]
    },
    {
      "metadata": {
        "id": "4CH2nKufxDUt",
        "colab_type": "text"
      },
      "cell_type": "markdown",
      "source": [
        "**Preparing the image data**"
      ]
    },
    {
      "metadata": {
        "id": "4blRDoMFw4SB",
        "colab_type": "code",
        "colab": {}
      },
      "cell_type": "code",
      "source": [
        "train_images = train_images_original.reshape((60000, 28 * 28))\n",
        "train_images = train_images.astype('float32') / 255\n",
        "\n",
        "test_images = test_images_original.reshape((10000, 28 * 28))\n",
        "test_images = test_images.astype('float32') / 255"
      ],
      "execution_count": 0,
      "outputs": []
    },
    {
      "metadata": {
        "id": "2a8REGw1x0ib",
        "colab_type": "text"
      },
      "cell_type": "markdown",
      "source": [
        "**Preparing the train labels ( coverting intergers to binary)**"
      ]
    },
    {
      "metadata": {
        "id": "Br8QUe1Zxqi-",
        "colab_type": "code",
        "colab": {}
      },
      "cell_type": "code",
      "source": [
        "from keras.utils import to_categorical\n",
        "\n",
        "train_labels = to_categorical(train_labels_original,10)\n",
        "test_labels = to_categorical(test_labels_original,10)"
      ],
      "execution_count": 0,
      "outputs": []
    },
    {
      "metadata": {
        "id": "fQJcdeRQzZxS",
        "colab_type": "text"
      },
      "cell_type": "markdown",
      "source": [
        "**Network Architecture**"
      ]
    },
    {
      "metadata": {
        "id": "wHC_RaviyO7X",
        "colab_type": "code",
        "colab": {
          "base_uri": "https://localhost:8080/",
          "height": 1595
        },
        "outputId": "a14bb2a8-7429-4c87-c7ab-1c4b75302fa4"
      },
      "cell_type": "code",
      "source": [
        "from keras import models\n",
        "from keras import layers\n",
        "import matplotlib.pyplot as plt\n",
        "\n",
        "network = models.Sequential()\n",
        "network.add(layers.Dense(10, activation='softmax'))\n",
        "#network.summary()\n",
        "#learning_rate = 0.05\n",
        "\n",
        "sgd = keras.optimizers.SGD(lr=0.05)\n",
        "network.compile(optimizer=sgd,\n",
        "                loss='categorical_crossentropy',\n",
        "                metrics=['accuracy'])\n",
        "epochs = 30\n",
        "History = network.fit(train_images, \n",
        "                      train_labels, \n",
        "                      epochs=epochs, \n",
        "                      batch_size=128, \n",
        "                      validation_data=(test_images, test_labels))\n",
        "\n",
        "#evaluate function: Returns the loss value & metrics values for the model in test mode\n",
        "metrics = network.evaluate(test_images, test_labels, verbose=0)\n",
        "print('Test loss:', metrics[0])\n",
        "print('Test accuracy:', metrics[1])\n",
        "\n",
        "accuracyplot = plt.plot(range(1,31),History.history['acc'],range(1,31),History.history['val_acc'])\n",
        "plt.xlabel('Epoch')\n",
        "plt.ylabel('Accuracy')\n",
        "plt.legend(('Training Accuracy','Test Accuracy'))\n",
        "plt.show(accuracyplot)\n"
      ],
      "execution_count": 4,
      "outputs": [
        {
          "output_type": "stream",
          "text": [
            "WARNING:tensorflow:From /usr/local/lib/python3.6/dist-packages/tensorflow/python/framework/op_def_library.py:263: colocate_with (from tensorflow.python.framework.ops) is deprecated and will be removed in a future version.\n",
            "Instructions for updating:\n",
            "Colocations handled automatically by placer.\n",
            "WARNING:tensorflow:From /usr/local/lib/python3.6/dist-packages/tensorflow/python/ops/math_ops.py:3066: to_int32 (from tensorflow.python.ops.math_ops) is deprecated and will be removed in a future version.\n",
            "Instructions for updating:\n",
            "Use tf.cast instead.\n",
            "Train on 60000 samples, validate on 10000 samples\n",
            "Epoch 1/30\n",
            "60000/60000 [==============================] - 1s 19us/step - loss: 0.7201 - acc: 0.8279 - val_loss: 0.4472 - val_acc: 0.8868\n",
            "Epoch 2/30\n",
            "60000/60000 [==============================] - 1s 18us/step - loss: 0.4314 - acc: 0.8861 - val_loss: 0.3796 - val_acc: 0.9003\n",
            "Epoch 3/30\n",
            "60000/60000 [==============================] - 1s 18us/step - loss: 0.3856 - acc: 0.8945 - val_loss: 0.3518 - val_acc: 0.9048\n",
            "Epoch 4/30\n",
            "60000/60000 [==============================] - 1s 18us/step - loss: 0.3623 - acc: 0.9000 - val_loss: 0.3351 - val_acc: 0.9094\n",
            "Epoch 5/30\n",
            "60000/60000 [==============================] - 1s 18us/step - loss: 0.3474 - acc: 0.9043 - val_loss: 0.3242 - val_acc: 0.9109\n",
            "Epoch 6/30\n",
            "60000/60000 [==============================] - 1s 18us/step - loss: 0.3368 - acc: 0.9067 - val_loss: 0.3165 - val_acc: 0.9137\n",
            "Epoch 7/30\n",
            "60000/60000 [==============================] - 1s 18us/step - loss: 0.3287 - acc: 0.9087 - val_loss: 0.3112 - val_acc: 0.9135\n",
            "Epoch 8/30\n",
            "60000/60000 [==============================] - 1s 18us/step - loss: 0.3223 - acc: 0.9104 - val_loss: 0.3062 - val_acc: 0.9154\n",
            "Epoch 9/30\n",
            "60000/60000 [==============================] - 1s 18us/step - loss: 0.3170 - acc: 0.9116 - val_loss: 0.3015 - val_acc: 0.9172\n",
            "Epoch 10/30\n",
            "60000/60000 [==============================] - 1s 18us/step - loss: 0.3127 - acc: 0.9130 - val_loss: 0.2983 - val_acc: 0.9183\n",
            "Epoch 11/30\n",
            "60000/60000 [==============================] - 1s 18us/step - loss: 0.3088 - acc: 0.9140 - val_loss: 0.2964 - val_acc: 0.9179\n",
            "Epoch 12/30\n",
            "60000/60000 [==============================] - 1s 18us/step - loss: 0.3056 - acc: 0.9146 - val_loss: 0.2933 - val_acc: 0.9196\n",
            "Epoch 13/30\n",
            "60000/60000 [==============================] - 1s 18us/step - loss: 0.3028 - acc: 0.9156 - val_loss: 0.2916 - val_acc: 0.9198\n",
            "Epoch 14/30\n",
            "60000/60000 [==============================] - 1s 18us/step - loss: 0.3000 - acc: 0.9163 - val_loss: 0.2892 - val_acc: 0.9192\n",
            "Epoch 15/30\n",
            "60000/60000 [==============================] - 1s 18us/step - loss: 0.2977 - acc: 0.9176 - val_loss: 0.2883 - val_acc: 0.9196\n",
            "Epoch 16/30\n",
            "60000/60000 [==============================] - 1s 17us/step - loss: 0.2956 - acc: 0.9182 - val_loss: 0.2865 - val_acc: 0.9201\n",
            "Epoch 17/30\n",
            "60000/60000 [==============================] - 1s 17us/step - loss: 0.2937 - acc: 0.9184 - val_loss: 0.2850 - val_acc: 0.9206\n",
            "Epoch 18/30\n",
            "60000/60000 [==============================] - 1s 17us/step - loss: 0.2920 - acc: 0.9187 - val_loss: 0.2844 - val_acc: 0.9203\n",
            "Epoch 19/30\n",
            "60000/60000 [==============================] - 1s 18us/step - loss: 0.2903 - acc: 0.9195 - val_loss: 0.2833 - val_acc: 0.9202\n",
            "Epoch 20/30\n",
            "60000/60000 [==============================] - 1s 18us/step - loss: 0.2888 - acc: 0.9195 - val_loss: 0.2825 - val_acc: 0.9220\n",
            "Epoch 21/30\n",
            "60000/60000 [==============================] - 1s 18us/step - loss: 0.2874 - acc: 0.9197 - val_loss: 0.2812 - val_acc: 0.9214\n",
            "Epoch 22/30\n",
            "60000/60000 [==============================] - 1s 17us/step - loss: 0.2862 - acc: 0.9204 - val_loss: 0.2803 - val_acc: 0.9222\n",
            "Epoch 23/30\n",
            "60000/60000 [==============================] - 1s 18us/step - loss: 0.2849 - acc: 0.9205 - val_loss: 0.2796 - val_acc: 0.9212\n",
            "Epoch 24/30\n",
            "60000/60000 [==============================] - 1s 18us/step - loss: 0.2837 - acc: 0.9207 - val_loss: 0.2798 - val_acc: 0.9223\n",
            "Epoch 25/30\n",
            "60000/60000 [==============================] - 1s 18us/step - loss: 0.2827 - acc: 0.9212 - val_loss: 0.2790 - val_acc: 0.9221\n",
            "Epoch 26/30\n",
            "60000/60000 [==============================] - 1s 17us/step - loss: 0.2816 - acc: 0.9215 - val_loss: 0.2794 - val_acc: 0.9219\n",
            "Epoch 27/30\n",
            "60000/60000 [==============================] - 1s 18us/step - loss: 0.2808 - acc: 0.9218 - val_loss: 0.2779 - val_acc: 0.9222\n",
            "Epoch 28/30\n",
            "60000/60000 [==============================] - 1s 17us/step - loss: 0.2798 - acc: 0.9221 - val_loss: 0.2769 - val_acc: 0.9221\n",
            "Epoch 29/30\n",
            "60000/60000 [==============================] - 1s 18us/step - loss: 0.2789 - acc: 0.9224 - val_loss: 0.2760 - val_acc: 0.9229\n",
            "Epoch 30/30\n",
            "60000/60000 [==============================] - 1s 17us/step - loss: 0.2780 - acc: 0.9225 - val_loss: 0.2763 - val_acc: 0.9223\n",
            "Test loss: 0.276261270943284\n",
            "Test accuracy: 0.9223\n"
          ],
          "name": "stdout"
        },
        {
          "output_type": "display_data",
          "data": {
            "image/png": "[encoded data removed]",
            "text/plain": [
              "<Figure size 576x396 with 1 Axes>"
            ]
          },
          "metadata": {
            "tags": []
          }
        }
      ]
    },
    {
      "metadata": {
        "id": "Zr7PxKjHzsUH",
        "colab_type": "text"
      },
      "cell_type": "markdown",
      "source": [
        "Compilation step"
      ]
    },
    {
      "metadata": {
        "id": "Pdct8eWWzzzC",
        "colab_type": "text"
      },
      "cell_type": "markdown",
      "source": [
        "Training step"
      ]
    }
  ]
}
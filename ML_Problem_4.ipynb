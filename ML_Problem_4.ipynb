{
  "nbformat": 4,
  "nbformat_minor": 0,
  "metadata": {
    "colab": {
      "name": "ML_Problem_4.ipynb",
      "version": "0.3.2",
      "provenance": [],
      "collapsed_sections": []
    },
    "kernelspec": {
      "name": "python3",
      "display_name": "Python 3"
    }
  },
  "cells": [
    {
      "metadata": {
        "id": "d3Jcdw_QwwDk",
        "colab_type": "text"
      },
      "cell_type": "markdown",
      "source": [
        "**Loading the MNIST Data through Keras**"
      ]
    },
    {
      "metadata": {
        "id": "PPetTI4fwG2m",
        "colab_type": "code",
        "outputId": "1e38c5bc-bea9-4142-e730-1f67b9e26d89",
        "colab": {
          "base_uri": "https://localhost:8080/",
          "height": 35
        }
      },
      "cell_type": "code",
      "source": [
        "import keras\n",
        "from keras.datasets import mnist\n",
        "\n",
        "(train_images_original, train_labels_original), (test_images_original, test_labels_original) = mnist.load_data()\n"
      ],
      "execution_count": 1,
      "outputs": [
        {
          "output_type": "stream",
          "text": [
            "Using TensorFlow backend.\n"
          ],
          "name": "stderr"
        }
      ]
    },
    {
      "metadata": {
        "id": "4CH2nKufxDUt",
        "colab_type": "text"
      },
      "cell_type": "markdown",
      "source": [
        "**Preparing the image data**"
      ]
    },
    {
      "metadata": {
        "id": "4blRDoMFw4SB",
        "colab_type": "code",
        "colab": {
          "base_uri": "https://localhost:8080/",
          "height": 52
        },
        "outputId": "646c3af8-75e1-400f-bf72-a0e12965a01c"
      },
      "cell_type": "code",
      "source": [
        "train_images = train_images_original.reshape((60000, 28 * 28))\n",
        "train_images = train_images.astype('float32') / 255\n",
        "\n",
        "test_images = test_images_original.reshape((10000, 28 * 28))\n",
        "test_images = test_images.astype('float32') / 255\n",
        "\n",
        "print(train_images.shape)\n",
        "print(test_images.shape)"
      ],
      "execution_count": 2,
      "outputs": [
        {
          "output_type": "stream",
          "text": [
            "(60000, 784)\n",
            "(10000, 784)\n"
          ],
          "name": "stdout"
        }
      ]
    },
    {
      "metadata": {
        "id": "2a8REGw1x0ib",
        "colab_type": "text"
      },
      "cell_type": "markdown",
      "source": [
        "**Preparing the train labels ( coverting intergers to binary)**"
      ]
    },
    {
      "metadata": {
        "id": "Br8QUe1Zxqi-",
        "colab_type": "code",
        "colab": {
          "base_uri": "https://localhost:8080/",
          "height": 52
        },
        "outputId": "35b8115b-d1cd-4be4-f294-6663ea61b1e8"
      },
      "cell_type": "code",
      "source": [
        "from keras.utils import to_categorical\n",
        "\n",
        "train_labels = to_categorical(train_labels_original,10)\n",
        "test_labels = to_categorical(test_labels_original,10)\n",
        "print(train_labels.shape)\n",
        "print(test_labels.shape)"
      ],
      "execution_count": 3,
      "outputs": [
        {
          "output_type": "stream",
          "text": [
            "(60000, 10)\n",
            "(10000, 10)\n"
          ],
          "name": "stdout"
        }
      ]
    },
    {
      "metadata": {
        "id": "fQJcdeRQzZxS",
        "colab_type": "text"
      },
      "cell_type": "markdown",
      "source": [
        "**Network Architecture**"
      ]
    },
    {
      "metadata": {
        "id": "wHC_RaviyO7X",
        "colab_type": "code",
        "outputId": "99e5b117-110a-4de7-8db7-401cc6da9c7a",
        "colab": {
          "base_uri": "https://localhost:8080/",
          "height": 1216
        }
      },
      "cell_type": "code",
      "source": [
        "from keras import models\n",
        "from keras import layers\n",
        "import matplotlib.pyplot as plt\n",
        "\n",
        "network = models.Sequential()\n",
        "network.add(layers.Dense(64, activation='sigmoid',input_dim = 28*28))\n",
        "network.add(layers.Dense(10, activation='softmax'))\n",
        "\n",
        "sgd = keras.optimizers.SGD(lr=0.1)\n",
        "network.compile(optimizer=sgd,\n",
        "                loss='categorical_crossentropy',\n",
        "                metrics=['accuracy'])\n",
        "epochs = 30\n",
        "# I tried with batch size = 128 but the results are more accurate with batch size=32\n",
        "History = network.fit(train_images, \n",
        "                      train_labels, \n",
        "                      epochs=epochs, \n",
        "                      batch_size=32, \n",
        "                      validation_data=(test_images, test_labels))"
      ],
      "execution_count": 4,
      "outputs": [
        {
          "output_type": "stream",
          "text": [
            "WARNING:tensorflow:From /usr/local/lib/python3.6/dist-packages/tensorflow/python/framework/op_def_library.py:263: colocate_with (from tensorflow.python.framework.ops) is deprecated and will be removed in a future version.\n",
            "Instructions for updating:\n",
            "Colocations handled automatically by placer.\n",
            "WARNING:tensorflow:From /usr/local/lib/python3.6/dist-packages/tensorflow/python/ops/math_ops.py:3066: to_int32 (from tensorflow.python.ops.math_ops) is deprecated and will be removed in a future version.\n",
            "Instructions for updating:\n",
            "Use tf.cast instead.\n",
            "Train on 60000 samples, validate on 10000 samples\n",
            "Epoch 1/30\n",
            "60000/60000 [==============================] - 3s 58us/step - loss: 0.5594 - acc: 0.8581 - val_loss: 0.3128 - val_acc: 0.9109\n",
            "Epoch 2/30\n",
            "60000/60000 [==============================] - 3s 56us/step - loss: 0.2942 - acc: 0.9163 - val_loss: 0.2573 - val_acc: 0.9276\n",
            "Epoch 3/30\n",
            "60000/60000 [==============================] - 3s 57us/step - loss: 0.2475 - acc: 0.9293 - val_loss: 0.2257 - val_acc: 0.9353\n",
            "Epoch 4/30\n",
            "60000/60000 [==============================] - 3s 56us/step - loss: 0.2169 - acc: 0.9389 - val_loss: 0.1985 - val_acc: 0.9439\n",
            "Epoch 5/30\n",
            "60000/60000 [==============================] - 3s 56us/step - loss: 0.1939 - acc: 0.9452 - val_loss: 0.1802 - val_acc: 0.9485\n",
            "Epoch 6/30\n",
            "60000/60000 [==============================] - 3s 56us/step - loss: 0.1754 - acc: 0.9503 - val_loss: 0.1689 - val_acc: 0.9506\n",
            "Epoch 7/30\n",
            "60000/60000 [==============================] - 3s 56us/step - loss: 0.1605 - acc: 0.9543 - val_loss: 0.1552 - val_acc: 0.9554\n",
            "Epoch 8/30\n",
            "60000/60000 [==============================] - 4s 62us/step - loss: 0.1477 - acc: 0.9578 - val_loss: 0.1445 - val_acc: 0.9571\n",
            "Epoch 9/30\n",
            "60000/60000 [==============================] - 4s 65us/step - loss: 0.1366 - acc: 0.9609 - val_loss: 0.1387 - val_acc: 0.9572\n",
            "Epoch 10/30\n",
            "60000/60000 [==============================] - 4s 66us/step - loss: 0.1278 - acc: 0.9636 - val_loss: 0.1292 - val_acc: 0.9610\n",
            "Epoch 11/30\n",
            "60000/60000 [==============================] - 3s 57us/step - loss: 0.1198 - acc: 0.9663 - val_loss: 0.1244 - val_acc: 0.9615\n",
            "Epoch 12/30\n",
            "60000/60000 [==============================] - 3s 56us/step - loss: 0.1129 - acc: 0.9683 - val_loss: 0.1186 - val_acc: 0.9634\n",
            "Epoch 13/30\n",
            "60000/60000 [==============================] - 3s 56us/step - loss: 0.1066 - acc: 0.9696 - val_loss: 0.1146 - val_acc: 0.9646\n",
            "Epoch 14/30\n",
            "60000/60000 [==============================] - 3s 55us/step - loss: 0.1009 - acc: 0.9717 - val_loss: 0.1126 - val_acc: 0.9647\n",
            "Epoch 15/30\n",
            "60000/60000 [==============================] - 3s 56us/step - loss: 0.0962 - acc: 0.9734 - val_loss: 0.1071 - val_acc: 0.9662\n",
            "Epoch 16/30\n",
            "60000/60000 [==============================] - 3s 56us/step - loss: 0.0916 - acc: 0.9741 - val_loss: 0.1075 - val_acc: 0.9662\n",
            "Epoch 17/30\n",
            "60000/60000 [==============================] - 3s 57us/step - loss: 0.0875 - acc: 0.9756 - val_loss: 0.1028 - val_acc: 0.9686\n",
            "Epoch 18/30\n",
            "60000/60000 [==============================] - 3s 55us/step - loss: 0.0838 - acc: 0.9766 - val_loss: 0.0974 - val_acc: 0.9698\n",
            "Epoch 19/30\n",
            "60000/60000 [==============================] - 3s 56us/step - loss: 0.0806 - acc: 0.9776 - val_loss: 0.0981 - val_acc: 0.9691\n",
            "Epoch 20/30\n",
            "60000/60000 [==============================] - 3s 57us/step - loss: 0.0770 - acc: 0.9793 - val_loss: 0.0959 - val_acc: 0.9694\n",
            "Epoch 21/30\n",
            "60000/60000 [==============================] - 3s 56us/step - loss: 0.0743 - acc: 0.9799 - val_loss: 0.0933 - val_acc: 0.9700\n",
            "Epoch 22/30\n",
            "60000/60000 [==============================] - 3s 55us/step - loss: 0.0716 - acc: 0.9803 - val_loss: 0.0940 - val_acc: 0.9699\n",
            "Epoch 23/30\n",
            "60000/60000 [==============================] - 3s 55us/step - loss: 0.0690 - acc: 0.9812 - val_loss: 0.0907 - val_acc: 0.9709\n",
            "Epoch 24/30\n",
            "60000/60000 [==============================] - 3s 55us/step - loss: 0.0666 - acc: 0.9820 - val_loss: 0.0902 - val_acc: 0.9718\n",
            "Epoch 25/30\n",
            "60000/60000 [==============================] - 3s 55us/step - loss: 0.0642 - acc: 0.9825 - val_loss: 0.0855 - val_acc: 0.9725\n",
            "Epoch 26/30\n",
            "60000/60000 [==============================] - 3s 56us/step - loss: 0.0622 - acc: 0.9832 - val_loss: 0.0873 - val_acc: 0.9734\n",
            "Epoch 27/30\n",
            "60000/60000 [==============================] - 4s 59us/step - loss: 0.0600 - acc: 0.9841 - val_loss: 0.0845 - val_acc: 0.9728\n",
            "Epoch 28/30\n",
            "60000/60000 [==============================] - 3s 57us/step - loss: 0.0584 - acc: 0.9845 - val_loss: 0.0846 - val_acc: 0.9727\n",
            "Epoch 29/30\n",
            "60000/60000 [==============================] - 3s 55us/step - loss: 0.0563 - acc: 0.9854 - val_loss: 0.0842 - val_acc: 0.9722\n",
            "Epoch 30/30\n",
            "60000/60000 [==============================] - 3s 56us/step - loss: 0.0548 - acc: 0.9856 - val_loss: 0.0833 - val_acc: 0.9721\n"
          ],
          "name": "stdout"
        }
      ]
    },
    {
      "metadata": {
        "id": "8vg0gUjL6l9r",
        "colab_type": "code",
        "colab": {
          "base_uri": "https://localhost:8080/",
          "height": 396
        },
        "outputId": "8b1afcba-764d-46f7-a168-c60040c7e01c"
      },
      "cell_type": "code",
      "source": [
        "#evaluate function: Returns the loss value & metrics values for the model in test mode\n",
        "metrics = network.evaluate(test_images, test_labels, verbose=0)\n",
        "print('Test loss:', metrics[0])\n",
        "print('Test accuracy:', metrics[1])\n",
        "\n",
        "accuracyplot = plt.plot(range(1,31),History.history['acc'],range(1,31),History.history['val_acc'])\n",
        "plt.xlabel('Epoch')\n",
        "plt.ylabel('Accuracy')\n",
        "plt.legend(('Training Accuracy','Test Accuracy'))\n",
        "plt.show(accuracyplot)"
      ],
      "execution_count": 5,
      "outputs": [
        {
          "output_type": "stream",
          "text": [
            "Test loss: 0.08329666938744486\n",
            "Test accuracy: 0.9721\n"
          ],
          "name": "stdout"
        },
        {
          "output_type": "display_data",
          "data": {
            "image/png": "[encoded data removed]",
            "text/plain": [
              "<Figure size 576x396 with 1 Axes>"
            ]
          },
          "metadata": {
            "tags": []
          }
        }
      ]
    }
  ]
}
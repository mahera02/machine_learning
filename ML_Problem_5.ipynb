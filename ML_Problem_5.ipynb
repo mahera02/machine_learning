{
  "nbformat": 4,
  "nbformat_minor": 0,
  "metadata": {
    "colab": {
      "name": "ML-Problem_5.ipynb",
      "version": "0.3.2",
      "provenance": [],
      "collapsed_sections": []
    },
    "kernelspec": {
      "name": "python3",
      "display_name": "Python 3"
    }
  },
  "cells": [
    {
      "metadata": {
        "id": "vXLYvrT4kp-T",
        "colab_type": "code",
        "colab": {
          "base_uri": "https://localhost:8080/",
          "height": 70
        },
        "outputId": "1ad8d979-0f91-42bb-caae-6cbc27126bd2"
      },
      "cell_type": "code",
      "source": [
        "import keras\n",
        "from keras.datasets import mnist\n",
        "from keras.models import Sequential\n",
        "from keras.layers import Dense\n",
        "import matplotlib.pyplot as plt\n",
        "\n",
        "\n",
        "(train_images_original, train_labels_original), (test_images_original, test_labels_original) = mnist.load_data()"
      ],
      "execution_count": 1,
      "outputs": [
        {
          "output_type": "stream",
          "text": [
            "Using TensorFlow backend.\n"
          ],
          "name": "stderr"
        },
        {
          "output_type": "stream",
          "text": [
            "Downloading data from https://s3.amazonaws.com/img-datasets/mnist.npz\n",
            "11493376/11490434 [==============================] - 0s 0us/step\n"
          ],
          "name": "stdout"
        }
      ]
    },
    {
      "metadata": {
        "id": "t6auL5tY1yKj",
        "colab_type": "code",
        "outputId": "9e011dee-2ebd-4dfe-fffd-5fb2856c17d4",
        "colab": {
          "base_uri": "https://localhost:8080/",
          "height": 35
        }
      },
      "cell_type": "code",
      "source": [
        "train_images = train_images_original.reshape((60000, 28 * 28))\n",
        "train_images = train_images.astype('float32') / 255\n",
        "\n",
        "test_images = test_images_original.reshape((10000, 28 * 28))\n",
        "test_images = test_images.astype('float32') / 255\n",
        "\n",
        "from keras.utils import to_categorical\n",
        "\n",
        "train_labels = to_categorical(train_labels_original,10)\n",
        "test_labels = to_categorical(test_labels_original,10)\n",
        "test_labels.shape\n"
      ],
      "execution_count": 2,
      "outputs": [
        {
          "output_type": "execute_result",
          "data": {
            "text/plain": [
              "(10000, 10)"
            ]
          },
          "metadata": {
            "tags": []
          },
          "execution_count": 2
        }
      ]
    },
    {
      "metadata": {
        "id": "GUqq8E3e4Fc5",
        "colab_type": "code",
        "outputId": "99fdb8b1-02ce-4356-8441-fd95bd40e1b9",
        "colab": {
          "base_uri": "https://localhost:8080/",
          "height": 1216
        }
      },
      "cell_type": "code",
      "source": [
        "from keras import models\n",
        "\n",
        "\n",
        "network = models.Sequential()\n",
        "\n",
        "network.add(Dense(units = 100, activation = 'relu'))\n",
        "\n",
        "network.add(Dense(units = 10, activation = 'softmax'))\n",
        "\n",
        "\n",
        "sgd = keras.optimizers.SGD(lr=0.05)\n",
        "network.compile(optimizer=sgd,\n",
        "                loss='categorical_crossentropy',\n",
        "                metrics=['accuracy'])\n",
        "epochs = 30\n",
        "History = network.fit(train_images, \n",
        "                      train_labels, \n",
        "                      epochs=epochs, \n",
        "                      batch_size=128, \n",
        "                      validation_data=(test_images, test_labels))"
      ],
      "execution_count": 3,
      "outputs": [
        {
          "output_type": "stream",
          "text": [
            "WARNING:tensorflow:From /usr/local/lib/python3.6/dist-packages/tensorflow/python/framework/op_def_library.py:263: colocate_with (from tensorflow.python.framework.ops) is deprecated and will be removed in a future version.\n",
            "Instructions for updating:\n",
            "Colocations handled automatically by placer.\n",
            "WARNING:tensorflow:From /usr/local/lib/python3.6/dist-packages/tensorflow/python/ops/math_ops.py:3066: to_int32 (from tensorflow.python.ops.math_ops) is deprecated and will be removed in a future version.\n",
            "Instructions for updating:\n",
            "Use tf.cast instead.\n",
            "Train on 60000 samples, validate on 10000 samples\n",
            "Epoch 1/30\n",
            "60000/60000 [==============================] - 3s 43us/step - loss: 0.6127 - acc: 0.8422 - val_loss: 0.3432 - val_acc: 0.9050\n",
            "Epoch 2/30\n",
            "60000/60000 [==============================] - 2s 31us/step - loss: 0.3227 - acc: 0.9086 - val_loss: 0.2815 - val_acc: 0.9215\n",
            "Epoch 3/30\n",
            "60000/60000 [==============================] - 2s 31us/step - loss: 0.2767 - acc: 0.9223 - val_loss: 0.2487 - val_acc: 0.9298\n",
            "Epoch 4/30\n",
            "60000/60000 [==============================] - 2s 31us/step - loss: 0.2466 - acc: 0.9311 - val_loss: 0.2283 - val_acc: 0.9357\n",
            "Epoch 5/30\n",
            "60000/60000 [==============================] - 2s 30us/step - loss: 0.2236 - acc: 0.9372 - val_loss: 0.2072 - val_acc: 0.9408\n",
            "Epoch 6/30\n",
            "60000/60000 [==============================] - 2s 31us/step - loss: 0.2044 - acc: 0.9424 - val_loss: 0.1949 - val_acc: 0.9451\n",
            "Epoch 7/30\n",
            "60000/60000 [==============================] - 2s 30us/step - loss: 0.1886 - acc: 0.9474 - val_loss: 0.1810 - val_acc: 0.9489\n",
            "Epoch 8/30\n",
            "60000/60000 [==============================] - 2s 30us/step - loss: 0.1743 - acc: 0.9512 - val_loss: 0.1708 - val_acc: 0.9522\n",
            "Epoch 9/30\n",
            "60000/60000 [==============================] - 2s 29us/step - loss: 0.1623 - acc: 0.9552 - val_loss: 0.1616 - val_acc: 0.9538\n",
            "Epoch 10/30\n",
            "60000/60000 [==============================] - 2s 30us/step - loss: 0.1522 - acc: 0.9575 - val_loss: 0.1524 - val_acc: 0.9558\n",
            "Epoch 11/30\n",
            "60000/60000 [==============================] - 2s 30us/step - loss: 0.1431 - acc: 0.9600 - val_loss: 0.1436 - val_acc: 0.9586\n",
            "Epoch 12/30\n",
            "60000/60000 [==============================] - 2s 30us/step - loss: 0.1348 - acc: 0.9624 - val_loss: 0.1387 - val_acc: 0.9594\n",
            "Epoch 13/30\n",
            "60000/60000 [==============================] - 2s 31us/step - loss: 0.1275 - acc: 0.9644 - val_loss: 0.1331 - val_acc: 0.9609\n",
            "Epoch 14/30\n",
            "60000/60000 [==============================] - 2s 31us/step - loss: 0.1212 - acc: 0.9663 - val_loss: 0.1271 - val_acc: 0.9625\n",
            "Epoch 15/30\n",
            "60000/60000 [==============================] - 2s 30us/step - loss: 0.1153 - acc: 0.9680 - val_loss: 0.1225 - val_acc: 0.9642\n",
            "Epoch 16/30\n",
            "60000/60000 [==============================] - 2s 30us/step - loss: 0.1101 - acc: 0.9692 - val_loss: 0.1205 - val_acc: 0.9637\n",
            "Epoch 17/30\n",
            "60000/60000 [==============================] - 2s 31us/step - loss: 0.1052 - acc: 0.9710 - val_loss: 0.1178 - val_acc: 0.9647\n",
            "Epoch 18/30\n",
            "60000/60000 [==============================] - 2s 31us/step - loss: 0.1010 - acc: 0.9722 - val_loss: 0.1132 - val_acc: 0.9663\n",
            "Epoch 19/30\n",
            "60000/60000 [==============================] - 2s 32us/step - loss: 0.0968 - acc: 0.9731 - val_loss: 0.1088 - val_acc: 0.9681\n",
            "Epoch 20/30\n",
            "60000/60000 [==============================] - 2s 32us/step - loss: 0.0931 - acc: 0.9741 - val_loss: 0.1068 - val_acc: 0.9678\n",
            "Epoch 21/30\n",
            "60000/60000 [==============================] - 2s 33us/step - loss: 0.0895 - acc: 0.9749 - val_loss: 0.1086 - val_acc: 0.9676\n",
            "Epoch 22/30\n",
            "60000/60000 [==============================] - 2s 33us/step - loss: 0.0865 - acc: 0.9761 - val_loss: 0.1029 - val_acc: 0.9694\n",
            "Epoch 23/30\n",
            "60000/60000 [==============================] - 2s 32us/step - loss: 0.0834 - acc: 0.9771 - val_loss: 0.1015 - val_acc: 0.9695\n",
            "Epoch 24/30\n",
            "60000/60000 [==============================] - 2s 32us/step - loss: 0.0804 - acc: 0.9780 - val_loss: 0.0978 - val_acc: 0.9702\n",
            "Epoch 25/30\n",
            "60000/60000 [==============================] - 2s 32us/step - loss: 0.0778 - acc: 0.9790 - val_loss: 0.0949 - val_acc: 0.9718\n",
            "Epoch 26/30\n",
            "60000/60000 [==============================] - 2s 32us/step - loss: 0.0754 - acc: 0.9793 - val_loss: 0.0948 - val_acc: 0.9716\n",
            "Epoch 27/30\n",
            "60000/60000 [==============================] - 2s 32us/step - loss: 0.0730 - acc: 0.9798 - val_loss: 0.0934 - val_acc: 0.9717\n",
            "Epoch 28/30\n",
            "60000/60000 [==============================] - 2s 31us/step - loss: 0.0706 - acc: 0.9807 - val_loss: 0.0905 - val_acc: 0.9732\n",
            "Epoch 29/30\n",
            "60000/60000 [==============================] - 2s 31us/step - loss: 0.0688 - acc: 0.9812 - val_loss: 0.0906 - val_acc: 0.9721\n",
            "Epoch 30/30\n",
            "60000/60000 [==============================] - 2s 31us/step - loss: 0.0666 - acc: 0.9816 - val_loss: 0.0923 - val_acc: 0.9730\n"
          ],
          "name": "stdout"
        }
      ]
    },
    {
      "metadata": {
        "id": "il2dGtts59zq",
        "colab_type": "code",
        "outputId": "530903cc-58e4-4679-bc23-716889e95001",
        "colab": {
          "base_uri": "https://localhost:8080/",
          "height": 396
        }
      },
      "cell_type": "code",
      "source": [
        "#evaluate function: Returns the loss value & metrics values for the model in test mode\n",
        "metrics = network.evaluate(test_images, test_labels, verbose=0)\n",
        "print('Test loss:', metrics[0])\n",
        "print('Test accuracy:', metrics[1])\n",
        "\n",
        "accuracyplot = plt.plot(range(1,31),History.history['acc'],range(1,31),History.history['val_acc'])\n",
        "plt.xlabel('Epoch')\n",
        "plt.ylabel('Accuracy')\n",
        "plt.legend(('Training Accuracy','Test Accuracy'))\n",
        "plt.show(accuracyplot)"
      ],
      "execution_count": 4,
      "outputs": [
        {
          "output_type": "stream",
          "text": [
            "Test loss: 0.09229212553519756\n",
            "Test accuracy: 0.973\n"
          ],
          "name": "stdout"
        },
        {
          "output_type": "display_data",
          "data": {
            "image/png": "[encoded data removed]",
            "text/plain": [
              "<Figure size 576x396 with 1 Axes>"
            ]
          },
          "metadata": {
            "tags": []
          }
        }
      ]
    }
  ]
}
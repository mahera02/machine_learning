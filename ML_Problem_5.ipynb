{
  "nbformat": 4,
  "nbformat_minor": 0,
  "metadata": {
    "colab": {
      "name": "ML_Problem_5.ipynb",
      "version": "0.3.2",
      "provenance": [],
      "collapsed_sections": [],
      "include_colab_link": true
    },
    "kernelspec": {
      "name": "python3",
      "display_name": "Python 3"
    }
  },
  "cells": [
    {
      "cell_type": "markdown",
      "metadata": {
        "id": "view-in-github",
        "colab_type": "text"
      },
      "source": [
        "<a href=\"https://colab.research.google.com/github/mahera02/machine_learning/blob/master/ML_Problem_5.ipynb\" target=\"_parent\"><img src=\"https://colab.research.google.com/assets/colab-badge.svg\" alt=\"Open In Colab\"/></a>"
      ]
    },
    {
      "metadata": {
        "id": "vXLYvrT4kp-T",
        "colab_type": "code",
        "outputId": "6430bbdb-eb08-4b8e-950d-d04a07798c75",
        "colab": {
          "base_uri": "https://localhost:8080/",
          "height": 35
        }
      },
      "cell_type": "code",
      "source": [
        "import keras\n",
        "from keras.datasets import mnist\n",
        "from keras.models import Sequential\n",
        "from keras.layers import Dense\n",
        "import matplotlib.pyplot as plt\n",
        "import cv2\n",
        "import numpy as np\n",
        "import scipy\n",
        "from scipy import ndimage\n",
        "from skimage import util \n",
        "\n",
        "(train_images_original, train_labels_original), (test_images_original, test_labels_original) = mnist.load_data()"
      ],
      "execution_count": 1,
      "outputs": [
        {
          "output_type": "stream",
          "text": [
            "Using TensorFlow backend.\n"
          ],
          "name": "stderr"
        }
      ]
    },
    {
      "metadata": {
        "id": "RVQuJNbWH27g",
        "colab_type": "text"
      },
      "cell_type": "markdown",
      "source": [
        "**Rounding the grey values of the images to 1 and 0 to obtain black and white images**"
      ]
    },
    {
      "metadata": {
        "id": "K9PGisvEH2Co",
        "colab_type": "code",
        "colab": {}
      },
      "cell_type": "code",
      "source": [
        "# First I tried below method for converting gray scale images to binary but as it is very slow, I am replacing it below by using cv2 library which is fast\n",
        "\n",
        "def binarize_array(numpy_array, threshold=127):\n",
        "    \"\"\"Binarize a numpy array.\"\"\"\n",
        "    for i in range(len(numpy_array)):\n",
        "        for j in range(len(numpy_array[0])):\n",
        "            if numpy_array[i][j] > threshold:\n",
        "                numpy_array[i][j] = 255\n",
        "            else:\n",
        "                numpy_array[i][j] = 0\n",
        "    return numpy_array\n",
        "\n",
        "# for i in range(len(train_images_original)):\n",
        "#     train_images_original[i] = binarize_array(train_images_original[i])\n",
        "\n",
        "# for i in range(len(test_images_original)):\n",
        "#     test_images_original[i] = binarize_array(test_images_original[i])\n",
        "  \n",
        "#plt.grid(None)\n",
        "#plt.imshow(binarize_array(train_images_original[0]))\n",
        "#binarize_array(train_images_original[0]).shape\n"
      ],
      "execution_count": 0,
      "outputs": []
    },
    {
      "metadata": {
        "id": "_vVzitqqL2Vv",
        "colab_type": "code",
        "outputId": "b9224139-1bdb-4176-f023-8d39fbae3f80",
        "colab": {
          "base_uri": "https://localhost:8080/",
          "height": 1350
        }
      },
      "cell_type": "code",
      "source": [
        "# Conversion Using cv2\n",
        "\n",
        "threshold = 127\n",
        "for i in range(len(train_images_original)):\n",
        "    train_images_original[i] = cv2.threshold(train_images_original[i], threshold, 255, cv2.THRESH_BINARY)[1]\n",
        "    \n",
        "for i in range(len(test_images_original)):\n",
        "    test_images_original[i] = cv2.threshold(test_images_original[i], threshold, 255, cv2.THRESH_BINARY)[1]\n",
        "\n",
        "print(train_images_original[0])\n",
        "\n",
        "# checking the binary image for any index\n",
        "plt.grid(None)\n",
        "plt.imshow(train_images_original[0])"
      ],
      "execution_count": 3,
      "outputs": [
        {
          "output_type": "stream",
          "text": [
            "[[  0   0   0   0   0   0   0   0   0   0   0   0   0   0   0   0   0   0\n",
            "    0   0   0   0   0   0   0   0   0   0]\n",
            " [  0   0   0   0   0   0   0   0   0   0   0   0   0   0   0   0   0   0\n",
            "    0   0   0   0   0   0   0   0   0   0]\n",
            " [  0   0   0   0   0   0   0   0   0   0   0   0   0   0   0   0   0   0\n",
            "    0   0   0   0   0   0   0   0   0   0]\n",
            " [  0   0   0   0   0   0   0   0   0   0   0   0   0   0   0   0   0   0\n",
            "    0   0   0   0   0   0   0   0   0   0]\n",
            " [  0   0   0   0   0   0   0   0   0   0   0   0   0   0   0   0   0   0\n",
            "    0   0   0   0   0   0   0   0   0   0]\n",
            " [  0   0   0   0   0   0   0   0   0   0   0   0   0   0   0   0   0 255\n",
            "  255   0 255 255 255   0   0   0   0   0]\n",
            " [  0   0   0   0   0   0   0   0   0   0   0 255 255 255 255 255 255 255\n",
            "  255 255 255 255 255   0   0   0   0   0]\n",
            " [  0   0   0   0   0   0   0   0 255 255 255 255 255 255 255 255 255 255\n",
            "    0   0   0   0   0   0   0   0   0   0]\n",
            " [  0   0   0   0   0   0   0   0 255 255 255 255 255 255 255 255 255 255\n",
            "    0   0   0   0   0   0   0   0   0   0]\n",
            " [  0   0   0   0   0   0   0   0   0 255   0 255 255 255   0   0   0 255\n",
            "    0   0   0   0   0   0   0   0   0   0]\n",
            " [  0   0   0   0   0   0   0   0   0   0   0 255 255   0   0   0   0   0\n",
            "    0   0   0   0   0   0   0   0   0   0]\n",
            " [  0   0   0   0   0   0   0   0   0   0   0 255 255 255   0   0   0   0\n",
            "    0   0   0   0   0   0   0   0   0   0]\n",
            " [  0   0   0   0   0   0   0   0   0   0   0   0 255 255   0   0   0   0\n",
            "    0   0   0   0   0   0   0   0   0   0]\n",
            " [  0   0   0   0   0   0   0   0   0   0   0   0   0 255 255 255   0   0\n",
            "    0   0   0   0   0   0   0   0   0   0]\n",
            " [  0   0   0   0   0   0   0   0   0   0   0   0   0   0 255 255 255   0\n",
            "    0   0   0   0   0   0   0   0   0   0]\n",
            " [  0   0   0   0   0   0   0   0   0   0   0   0   0   0   0 255 255 255\n",
            "  255   0   0   0   0   0   0   0   0   0]\n",
            " [  0   0   0   0   0   0   0   0   0   0   0   0   0   0   0   0   0 255\n",
            "  255 255   0   0   0   0   0   0   0   0]\n",
            " [  0   0   0   0   0   0   0   0   0   0   0   0   0   0   0   0   0 255\n",
            "  255 255   0   0   0   0   0   0   0   0]\n",
            " [  0   0   0   0   0   0   0   0   0   0   0   0   0   0   0 255 255 255\n",
            "  255 255   0   0   0   0   0   0   0   0]\n",
            " [  0   0   0   0   0   0   0   0   0   0   0   0   0 255 255 255 255 255\n",
            "  255 255   0   0   0   0   0   0   0   0]\n",
            " [  0   0   0   0   0   0   0   0   0   0   0   0 255 255 255 255 255 255\n",
            "    0   0   0   0   0   0   0   0   0   0]\n",
            " [  0   0   0   0   0   0   0   0   0   0 255 255 255 255 255 255   0   0\n",
            "    0   0   0   0   0   0   0   0   0   0]\n",
            " [  0   0   0   0   0   0   0 255 255 255 255 255 255 255   0   0   0   0\n",
            "    0   0   0   0   0   0   0   0   0   0]\n",
            " [  0   0   0   0   0 255 255 255 255 255 255 255 255   0   0   0   0   0\n",
            "    0   0   0   0   0   0   0   0   0   0]\n",
            " [  0   0   0   0 255 255 255 255 255 255 255   0   0   0   0   0   0   0\n",
            "    0   0   0   0   0   0   0   0   0   0]\n",
            " [  0   0   0   0   0   0   0   0   0   0   0   0   0   0   0   0   0   0\n",
            "    0   0   0   0   0   0   0   0   0   0]\n",
            " [  0   0   0   0   0   0   0   0   0   0   0   0   0   0   0   0   0   0\n",
            "    0   0   0   0   0   0   0   0   0   0]\n",
            " [  0   0   0   0   0   0   0   0   0   0   0   0   0   0   0   0   0   0\n",
            "    0   0   0   0   0   0   0   0   0   0]]\n"
          ],
          "name": "stdout"
        },
        {
          "output_type": "execute_result",
          "data": {
            "text/plain": [
              "<matplotlib.image.AxesImage at 0x7fb3be602358>"
            ]
          },
          "metadata": {
            "tags": []
          },
          "execution_count": 3
        },
        {
          "output_type": "display_data",
          "data": {
            "image/png": "[encoded data removed]",
            "text/plain": [
              "<Figure size 576x396 with 1 Axes>"
            ]
          },
          "metadata": {
            "tags": []
          }
        }
      ]
    },
    {
      "metadata": {
        "id": "pCSB-32Wlxcw",
        "colab_type": "code",
        "colab": {}
      },
      "cell_type": "code",
      "source": [
        "\n",
        "train_images_original = train_images_original / 255;\n",
        "test_images_original  = test_images_original  / 255; \n",
        "\n",
        "#print(train_images_original[0])"
      ],
      "execution_count": 0,
      "outputs": []
    },
    {
      "metadata": {
        "id": "Xf_oEJaNqG57",
        "colab_type": "code",
        "outputId": "54f01015-8539-485e-a9bc-35191597b6a7",
        "colab": {
          "base_uri": "https://localhost:8080/",
          "height": 52
        }
      },
      "cell_type": "code",
      "source": [
        "# initializing connected components\n",
        "\n",
        "conn_train = np.zeros_like(train_labels_original)\n",
        "conn_test  = np.zeros_like(test_labels_original)\n",
        "print(train_labels_original,)\n",
        "print(conn_train,)"
      ],
      "execution_count": 5,
      "outputs": [
        {
          "output_type": "stream",
          "text": [
            "[5 0 4 ... 5 6 8]\n",
            "[0 0 0 ... 0 0 0]\n"
          ],
          "name": "stdout"
        }
      ]
    },
    {
      "metadata": {
        "id": "GT3KPSKuc3Ua",
        "colab_type": "text"
      },
      "cell_type": "markdown",
      "source": [
        "**Using Scipy.ndimage for calculating the connected components (i.e. No of white Regions)** https://docs.scipy.org/doc/scipy/reference/generated/scipy.ndimage.label.html\n",
        "\n",
        "Note: DFS algorithm is not 100% accurate and is very slow\n"
      ]
    },
    {
      "metadata": {
        "id": "gpQf4DQh6Q_H",
        "colab_type": "code",
        "outputId": "58770eb5-0111-42d7-cf29-eda279eec1ac",
        "colab": {
          "base_uri": "https://localhost:8080/",
          "height": 1020
        }
      },
      "cell_type": "code",
      "source": [
        "for i in range(len(conn_train)):\n",
        "  label,num_white_regions = ndimage.label(util.invert(train_images_original[i]))\n",
        "  conn_train[i] = num_white_regions\n",
        "  \n",
        "print(util.invert(train_images_original[59999]))\n",
        "print(conn_train[59999])\n",
        "\n",
        "for i in range(len(conn_test)):\n",
        "  label,num_white_regions = ndimage.label(util.invert(test_images_original[i]))\n",
        "  conn_test[i] = num_white_regions"
      ],
      "execution_count": 6,
      "outputs": [
        {
          "output_type": "stream",
          "text": [
            "[[1. 1. 1. 1. 1. 1. 1. 1. 1. 1. 1. 1. 1. 1. 1. 1. 1. 1. 1. 1. 1. 1. 1. 1.\n",
            "  1. 1. 1. 1.]\n",
            " [1. 1. 1. 1. 1. 1. 1. 1. 1. 1. 1. 1. 1. 1. 1. 1. 1. 1. 1. 1. 1. 1. 1. 1.\n",
            "  1. 1. 1. 1.]\n",
            " [1. 1. 1. 1. 1. 1. 1. 1. 1. 1. 1. 1. 1. 1. 1. 1. 1. 1. 1. 1. 1. 1. 1. 1.\n",
            "  1. 1. 1. 1.]\n",
            " [1. 1. 1. 1. 1. 1. 1. 1. 1. 1. 1. 1. 1. 1. 1. 1. 1. 1. 1. 1. 1. 1. 1. 1.\n",
            "  1. 1. 1. 1.]\n",
            " [1. 1. 1. 1. 1. 1. 1. 1. 1. 1. 1. 1. 1. 1. 1. 1. 1. 1. 1. 1. 1. 1. 1. 1.\n",
            "  1. 1. 1. 1.]\n",
            " [1. 1. 1. 1. 1. 1. 1. 1. 1. 1. 1. 1. 1. 1. 1. 1. 1. 1. 1. 1. 1. 1. 1. 1.\n",
            "  1. 1. 1. 1.]\n",
            " [1. 1. 1. 1. 1. 1. 1. 1. 1. 1. 1. 1. 1. 1. 1. 1. 1. 1. 1. 1. 1. 1. 1. 1.\n",
            "  1. 1. 1. 1.]\n",
            " [1. 1. 1. 1. 1. 1. 1. 1. 1. 1. 1. 1. 1. 1. 1. 0. 0. 0. 0. 0. 1. 1. 1. 1.\n",
            "  1. 1. 1. 1.]\n",
            " [1. 1. 1. 1. 1. 1. 1. 1. 1. 1. 1. 1. 1. 0. 0. 0. 0. 0. 0. 0. 0. 1. 1. 1.\n",
            "  0. 0. 1. 1.]\n",
            " [1. 1. 1. 1. 1. 1. 1. 1. 1. 1. 1. 1. 0. 0. 1. 1. 1. 1. 1. 1. 0. 1. 1. 0.\n",
            "  0. 1. 1. 1.]\n",
            " [1. 1. 1. 1. 1. 1. 1. 1. 1. 1. 1. 0. 0. 1. 1. 1. 1. 1. 1. 1. 0. 0. 0. 0.\n",
            "  1. 1. 1. 1.]\n",
            " [1. 1. 1. 1. 1. 1. 1. 1. 1. 1. 1. 0. 1. 1. 1. 1. 1. 1. 1. 1. 0. 0. 0. 1.\n",
            "  1. 1. 1. 1.]\n",
            " [1. 1. 1. 1. 1. 1. 1. 1. 1. 1. 0. 0. 1. 1. 1. 1. 1. 1. 0. 0. 0. 1. 1. 1.\n",
            "  1. 1. 1. 1.]\n",
            " [1. 1. 1. 1. 1. 1. 1. 1. 1. 1. 0. 1. 1. 1. 1. 1. 0. 0. 0. 1. 1. 1. 1. 1.\n",
            "  1. 1. 1. 1.]\n",
            " [1. 1. 1. 1. 1. 1. 1. 1. 1. 1. 0. 0. 1. 1. 1. 0. 0. 0. 1. 1. 1. 1. 1. 1.\n",
            "  1. 1. 1. 1.]\n",
            " [1. 1. 1. 1. 1. 1. 1. 1. 1. 1. 0. 0. 1. 0. 0. 0. 1. 1. 1. 1. 1. 1. 1. 1.\n",
            "  1. 1. 1. 1.]\n",
            " [1. 1. 1. 1. 1. 1. 1. 1. 1. 1. 0. 0. 0. 0. 1. 1. 1. 1. 1. 1. 1. 1. 1. 1.\n",
            "  1. 1. 1. 1.]\n",
            " [1. 1. 1. 1. 1. 1. 1. 1. 1. 1. 0. 0. 0. 1. 1. 1. 1. 1. 1. 1. 1. 1. 1. 1.\n",
            "  1. 1. 1. 1.]\n",
            " [1. 1. 1. 1. 1. 1. 1. 1. 1. 0. 0. 0. 1. 1. 1. 1. 1. 1. 1. 1. 1. 1. 1. 1.\n",
            "  1. 1. 1. 1.]\n",
            " [1. 1. 1. 1. 1. 1. 1. 0. 0. 0. 1. 0. 1. 1. 1. 1. 1. 1. 1. 1. 1. 1. 1. 1.\n",
            "  1. 1. 1. 1.]\n",
            " [1. 1. 1. 1. 1. 1. 1. 0. 0. 1. 1. 0. 1. 1. 1. 1. 1. 1. 1. 1. 1. 1. 1. 1.\n",
            "  1. 1. 1. 1.]\n",
            " [1. 1. 1. 1. 1. 1. 0. 0. 0. 1. 1. 0. 0. 1. 1. 1. 1. 1. 1. 1. 1. 1. 1. 1.\n",
            "  1. 1. 1. 1.]\n",
            " [1. 1. 1. 1. 1. 1. 1. 0. 0. 1. 1. 0. 1. 1. 1. 1. 1. 1. 1. 1. 1. 1. 1. 1.\n",
            "  1. 1. 1. 1.]\n",
            " [1. 1. 1. 1. 1. 1. 1. 0. 0. 0. 0. 0. 1. 1. 1. 1. 1. 1. 1. 1. 1. 1. 1. 1.\n",
            "  1. 1. 1. 1.]\n",
            " [1. 1. 1. 1. 1. 1. 1. 1. 0. 0. 0. 1. 1. 1. 1. 1. 1. 1. 1. 1. 1. 1. 1. 1.\n",
            "  1. 1. 1. 1.]\n",
            " [1. 1. 1. 1. 1. 1. 1. 1. 1. 1. 1. 1. 1. 1. 1. 1. 1. 1. 1. 1. 1. 1. 1. 1.\n",
            "  1. 1. 1. 1.]\n",
            " [1. 1. 1. 1. 1. 1. 1. 1. 1. 1. 1. 1. 1. 1. 1. 1. 1. 1. 1. 1. 1. 1. 1. 1.\n",
            "  1. 1. 1. 1.]\n",
            " [1. 1. 1. 1. 1. 1. 1. 1. 1. 1. 1. 1. 1. 1. 1. 1. 1. 1. 1. 1. 1. 1. 1. 1.\n",
            "  1. 1. 1. 1.]]\n",
            "3\n"
          ],
          "name": "stdout"
        }
      ]
    },
    {
      "metadata": {
        "id": "wfVbM-R1KzU4",
        "colab_type": "code",
        "colab": {}
      },
      "cell_type": "code",
      "source": [
        "#class Graph: \n",
        "#  def __init__(self, row, col, g): \n",
        "#    self.ROW = row \n",
        "#    self.COL = col \n",
        "#    self.graph = g\n",
        "#  def isSafe(self, i, j, visited):\n",
        "#    return (i >= 0 and i < self.ROW and j >= 0 and j < self.COL and not visited[i][j] and self.graph[i][j])            \n",
        "#  def DFS(self, i, j, visited):\n",
        "#    rowNbr = [-1, -1, -1,  0, 0,  1, 1, 1]; \n",
        "#    colNbr = [-1,  0,  1, -1, 1, -1, 0, 1]; \n",
        "#    visited[i][j] = True\n",
        "#    for k in range(8):\n",
        "#      if self.isSafe(i + rowNbr[k], j + colNbr[k], visited):\n",
        "#        self.DFS(i + rowNbr[k], j + colNbr[k], visited) \n",
        "#  def countIslands(self):\n",
        "#    visited = [[False for j in range(self.COL)]for i in range(self.ROW)] \n",
        "#    count = 0\n",
        "#    for i in range(self.ROW):\n",
        "#      for j in range(self.COL):\n",
        "#        if visited[i][j] == False and self.graph[i][j] ==1:\n",
        "#          self.DFS(i, j, visited)\n",
        "#          count += 1\n",
        "#    return count\n",
        "  \n",
        "#connected_comp_list = []\n",
        "#for a in train_images_original:\n",
        "#  row = len(a)\n",
        "#  col = len(a[0])\n",
        "#  g = Graph(row, col, a)\n",
        "#  connected_comp_list.append(g.countIslands())\n",
        "#print(connected_comp_list)\n",
        "\n",
        "#for i in range(len(connected_comp_list)):\n",
        "#  connected_components_train[i] = connected_comp_list[i]"
      ],
      "execution_count": 0,
      "outputs": []
    },
    {
      "metadata": {
        "id": "t6auL5tY1yKj",
        "colab_type": "code",
        "outputId": "c9a7243b-b592-4cdc-aba6-5abbada65004",
        "colab": {
          "base_uri": "https://localhost:8080/",
          "height": 123
        }
      },
      "cell_type": "code",
      "source": [
        "(train_images_original, train_labels_original), (test_images_original, test_labels_original) = mnist.load_data()\n",
        "\n",
        "train_images = train_images_original.reshape((60000, 28 * 28))\n",
        "train_images = train_images.astype('float32') / 255\n",
        "\n",
        "test_images = test_images_original.reshape((10000, 28 * 28))\n",
        "test_images = test_images.astype('float32') / 255\n",
        "\n",
        "print(train_images.shape)\n",
        "print(test_images.shape)\n",
        "\n",
        "from keras.utils import to_categorical\n",
        "\n",
        "train_labels = to_categorical(train_labels_original,10)\n",
        "test_labels = to_categorical(test_labels_original,10)\n",
        "\n",
        "print(train_labels.shape)\n",
        "print(test_labels.shape)\n",
        "\n",
        "print(conn_train)\n",
        "conn_train = conn_train / 4\n",
        "conn_test = conn_test / 4\n",
        "\n",
        "print(conn_train)\n"
      ],
      "execution_count": 8,
      "outputs": [
        {
          "output_type": "stream",
          "text": [
            "(60000, 784)\n",
            "(10000, 784)\n",
            "(60000, 10)\n",
            "(10000, 10)\n",
            "[1 2 1 ... 1 1 3]\n",
            "[0.25 0.5  0.25 ... 0.25 0.25 0.75]\n"
          ],
          "name": "stdout"
        }
      ]
    },
    {
      "metadata": {
        "id": "j9NVKEqJSOfb",
        "colab_type": "text"
      },
      "cell_type": "markdown",
      "source": [
        "**Training the network using keras by adding the new feature(num of white regions)  and then finding training and test accuracy**"
      ]
    },
    {
      "metadata": {
        "id": "GUqq8E3e4Fc5",
        "colab_type": "code",
        "outputId": "48e501da-7cdf-4943-d1a3-9f1bd01059c1",
        "colab": {
          "base_uri": "https://localhost:8080/",
          "height": 1216
        }
      },
      "cell_type": "code",
      "source": [
        "from keras import models\n",
        "from keras.models import Model\n",
        "from keras.layers import Input, Dense\n",
        "\n",
        "\n",
        "# training data\n",
        "input_shape =Input((28*28,))\n",
        "\n",
        "# new feature\n",
        "conn_feature =Input((1,))\n",
        "\n",
        "input_vector = Dense(64, activation='sigmoid')(input_shape)\n",
        "\n",
        "# appending new features and output of first layer\n",
        "network  = keras.layers.add([input_vector, conn_feature])   \n",
        "network  = Dense(10, activation='softmax')(network)\n",
        "\n",
        "# network model\n",
        "network  = Model(inputs=[input_shape, conn_feature], outputs=network)\n",
        "\n",
        "sgd = keras.optimizers.SGD(lr=0.1)\n",
        "network.compile(optimizer=sgd,\n",
        "                loss='categorical_crossentropy',\n",
        "                metrics=['accuracy'])\n",
        "epochs = 30\n",
        "History = network.fit([train_images, \n",
        "                      conn_train],\n",
        "                      train_labels,\n",
        "                      epochs=epochs, \n",
        "                      batch_size=128,validation_data=([test_images,conn_test], test_labels))"
      ],
      "execution_count": 9,
      "outputs": [
        {
          "output_type": "stream",
          "text": [
            "WARNING:tensorflow:From /usr/local/lib/python3.6/dist-packages/tensorflow/python/framework/op_def_library.py:263: colocate_with (from tensorflow.python.framework.ops) is deprecated and will be removed in a future version.\n",
            "Instructions for updating:\n",
            "Colocations handled automatically by placer.\n",
            "WARNING:tensorflow:From /usr/local/lib/python3.6/dist-packages/tensorflow/python/ops/math_ops.py:3066: to_int32 (from tensorflow.python.ops.math_ops) is deprecated and will be removed in a future version.\n",
            "Instructions for updating:\n",
            "Use tf.cast instead.\n",
            "Train on 60000 samples, validate on 10000 samples\n",
            "Epoch 1/30\n",
            "60000/60000 [==============================] - 2s 41us/step - loss: 1.0138 - acc: 0.7723 - val_loss: 0.5117 - val_acc: 0.8815\n",
            "Epoch 2/30\n",
            "60000/60000 [==============================] - 2s 36us/step - loss: 0.4360 - acc: 0.8952 - val_loss: 0.3610 - val_acc: 0.9069\n",
            "Epoch 3/30\n",
            "60000/60000 [==============================] - 2s 38us/step - loss: 0.3471 - acc: 0.9099 - val_loss: 0.3109 - val_acc: 0.9173\n",
            "Epoch 4/30\n",
            "60000/60000 [==============================] - 2s 37us/step - loss: 0.3073 - acc: 0.9172 - val_loss: 0.2820 - val_acc: 0.9254\n",
            "Epoch 5/30\n",
            "60000/60000 [==============================] - 2s 36us/step - loss: 0.2828 - acc: 0.9227 - val_loss: 0.2638 - val_acc: 0.9297\n",
            "Epoch 6/30\n",
            "60000/60000 [==============================] - 2s 37us/step - loss: 0.2654 - acc: 0.9269 - val_loss: 0.2497 - val_acc: 0.9331\n",
            "Epoch 7/30\n",
            "60000/60000 [==============================] - 2s 38us/step - loss: 0.2520 - acc: 0.9301 - val_loss: 0.2390 - val_acc: 0.9363\n",
            "Epoch 8/30\n",
            "60000/60000 [==============================] - 2s 38us/step - loss: 0.2408 - acc: 0.9328 - val_loss: 0.2284 - val_acc: 0.9390\n",
            "Epoch 9/30\n",
            "60000/60000 [==============================] - 2s 35us/step - loss: 0.2310 - acc: 0.9350 - val_loss: 0.2221 - val_acc: 0.9413\n",
            "Epoch 10/30\n",
            "60000/60000 [==============================] - 2s 37us/step - loss: 0.2225 - acc: 0.9373 - val_loss: 0.2150 - val_acc: 0.9412\n",
            "Epoch 11/30\n",
            "60000/60000 [==============================] - 2s 37us/step - loss: 0.2151 - acc: 0.9392 - val_loss: 0.2077 - val_acc: 0.9440\n",
            "Epoch 12/30\n",
            "60000/60000 [==============================] - 2s 38us/step - loss: 0.2080 - acc: 0.9410 - val_loss: 0.2021 - val_acc: 0.9448\n",
            "Epoch 13/30\n",
            "60000/60000 [==============================] - 2s 40us/step - loss: 0.2020 - acc: 0.9427 - val_loss: 0.1974 - val_acc: 0.9462\n",
            "Epoch 14/30\n",
            "60000/60000 [==============================] - 2s 38us/step - loss: 0.1962 - acc: 0.9445 - val_loss: 0.1908 - val_acc: 0.9479\n",
            "Epoch 15/30\n",
            "60000/60000 [==============================] - 2s 37us/step - loss: 0.1906 - acc: 0.9459 - val_loss: 0.1861 - val_acc: 0.9492\n",
            "Epoch 16/30\n",
            "60000/60000 [==============================] - 2s 38us/step - loss: 0.1855 - acc: 0.9471 - val_loss: 0.1823 - val_acc: 0.9488\n",
            "Epoch 17/30\n",
            "60000/60000 [==============================] - 3s 42us/step - loss: 0.1809 - acc: 0.9485 - val_loss: 0.1788 - val_acc: 0.9496\n",
            "Epoch 18/30\n",
            "60000/60000 [==============================] - 3s 43us/step - loss: 0.1764 - acc: 0.9502 - val_loss: 0.1753 - val_acc: 0.9510\n",
            "Epoch 19/30\n",
            "60000/60000 [==============================] - 2s 41us/step - loss: 0.1722 - acc: 0.9511 - val_loss: 0.1708 - val_acc: 0.9521\n",
            "Epoch 20/30\n",
            "60000/60000 [==============================] - 2s 38us/step - loss: 0.1680 - acc: 0.9524 - val_loss: 0.1673 - val_acc: 0.9518\n",
            "Epoch 21/30\n",
            "60000/60000 [==============================] - 2s 36us/step - loss: 0.1643 - acc: 0.9534 - val_loss: 0.1648 - val_acc: 0.9532\n",
            "Epoch 22/30\n",
            "60000/60000 [==============================] - 2s 37us/step - loss: 0.1609 - acc: 0.9545 - val_loss: 0.1605 - val_acc: 0.9534\n",
            "Epoch 23/30\n",
            "60000/60000 [==============================] - 2s 36us/step - loss: 0.1574 - acc: 0.9552 - val_loss: 0.1583 - val_acc: 0.9539\n",
            "Epoch 24/30\n",
            "60000/60000 [==============================] - 2s 31us/step - loss: 0.1542 - acc: 0.9560 - val_loss: 0.1556 - val_acc: 0.9550\n",
            "Epoch 25/30\n",
            "60000/60000 [==============================] - 2s 29us/step - loss: 0.1510 - acc: 0.9571 - val_loss: 0.1531 - val_acc: 0.9558\n",
            "Epoch 26/30\n",
            "60000/60000 [==============================] - 2s 36us/step - loss: 0.1481 - acc: 0.9577 - val_loss: 0.1506 - val_acc: 0.9569\n",
            "Epoch 27/30\n",
            "60000/60000 [==============================] - 2s 29us/step - loss: 0.1453 - acc: 0.9585 - val_loss: 0.1494 - val_acc: 0.9570\n",
            "Epoch 28/30\n",
            "60000/60000 [==============================] - 2s 38us/step - loss: 0.1428 - acc: 0.9593 - val_loss: 0.1453 - val_acc: 0.9575\n",
            "Epoch 29/30\n",
            "60000/60000 [==============================] - 2s 38us/step - loss: 0.1400 - acc: 0.9600 - val_loss: 0.1443 - val_acc: 0.9577\n",
            "Epoch 30/30\n",
            "60000/60000 [==============================] - 3s 44us/step - loss: 0.1377 - acc: 0.9608 - val_loss: 0.1411 - val_acc: 0.9593\n"
          ],
          "name": "stdout"
        }
      ]
    },
    {
      "metadata": {
        "id": "il2dGtts59zq",
        "colab_type": "code",
        "outputId": "ac686f6f-4e20-445b-bfb6-001ec6bbd9ff",
        "colab": {
          "base_uri": "https://localhost:8080/",
          "height": 740
        }
      },
      "cell_type": "code",
      "source": [
        "#evaluate function: Returns the loss value & metrics values for the model in test mode\n",
        "metrics = network.evaluate([test_images,conn_test], test_labels, verbose=0)\n",
        "print('Test loss:', metrics[0])\n",
        "print('Test accuracy:', metrics[1]*100,'%')\n",
        "\n",
        "accuracyplot = plt.plot(range(1,31),History.history['acc'],range(1,31),History.history['val_acc'])\n",
        "plt.xlabel('Epoch')\n",
        "plt.ylabel('Accuracy')\n",
        "plt.legend(('Training Accuracy','Test Accuracy'))\n",
        "plt.show(accuracyplot)\n",
        "\n",
        "lossplot = plt.plot(range(1,31),History.history['loss'],range(1,31),History.history['val_loss'])\n",
        "plt.xlabel('Epoch')\n",
        "plt.ylabel('Loss')\n",
        "plt.legend(('Training Loss','Test Loss'))\n",
        "plt.show(lossplot)"
      ],
      "execution_count": 10,
      "outputs": [
        {
          "output_type": "stream",
          "text": [
            "Test loss: 0.14108139499723912\n",
            "Test accuracy: 95.93 %\n"
          ],
          "name": "stdout"
        },
        {
          "output_type": "display_data",
          "data": {
            "image/png": "[encoded data removed]",
            "text/plain": [
              "<Figure size 576x396 with 1 Axes>"
            ]
          },
          "metadata": {
            "tags": []
          }
        },
        {
          "output_type": "display_data",
          "data": {
            "image/png": "[encoded data removed]",
            "text/plain": [
              "<Figure size 576x396 with 1 Axes>"
            ]
          },
          "metadata": {
            "tags": []
          }
        }
      ]
    }
  ]
}